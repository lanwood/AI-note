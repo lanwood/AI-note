{
 "cells": [
  {
   "cell_type": "markdown",
   "metadata": {},
   "source": [
    "像TensorFlow这样的编程框架不仅仅可以缩短你的开发时间，而且还可以使你的程序运行得更高效更快。因为这些框架都是经过精心设计和高效实现的。所以我是强烈建议大家在实际的商业项目中使用编程框架的。\n",
    "\n",
    "在python中使用tensorflow就像使用numpy库一样，首先要将其导入。导入matplotlib库时可能会出现“No moudle named 'matplotlib'”，解决方法是在anaconda prompt中输入activate tensorflow来激活我们前一篇文章中创建的tensorflow环境，然后再输入pip install matplotlib来安装matplotlib库。以后出现类似找不到库的错误提示都可以用这种方法来解决。"
   ]
  },
  {
   "cell_type": "code",
   "execution_count": 1,
   "metadata": {},
   "outputs": [],
   "source": [
    "import math\n",
    "import numpy as np\n",
    "import h5py\n",
    "import matplotlib.pyplot as plt\n",
    "import tensorflow as tf\n",
    "from tensorflow.python.framework import ops\n",
    "from tf_utils import load_dataset, random_mini_batches, convert_to_one_hot, predict\n",
    "\n",
    "%matplotlib inline\n",
    "np.random.seed(1)"
   ]
  },
  {
   "cell_type": "markdown",
   "metadata": {},
   "source": [
    "首先向大家展示用tensorflow来定义下面的函数。\n",
    "$$loss = \\mathcal{L}(\\hat{y}, y) = (\\hat y^{(i)} - y^{(i)})^2 \\tag{1}$$"
   ]
  },
  {
   "cell_type": "code",
   "execution_count": 2,
   "metadata": {},
   "outputs": [
    {
     "name": "stdout",
     "output_type": "stream",
     "text": [
      "9\n"
     ]
    }
   ],
   "source": [
    "y_hat = tf.constant(36, name='y_hat')            # 定义一个tensorflow常量\n",
    "y = tf.constant(39, name='y')                   \n",
    "\n",
    "loss = tf.Variable((y - y_hat)**2, name='loss')  # 定义一个tensorflow变量，这个变量就表示了上面的loss函数\n",
    "\n",
    "init = tf.global_variables_initializer() # 这个可以看作是tensorflow的固定写法，后面会使用init来初始化loss变量                                                 \n",
    "with tf.Session() as session:                    # 创建一个tensorflow的session\n",
    "    session.run(init)                            # 用这个session来执行init初始化操作\n",
    "    print(session.run(loss))                     # 用session来执行loss操作，并将loss的值打印处理"
   ]
  },
  {
   "cell_type": "markdown",
   "metadata": {},
   "source": [
    "看到上面的代码，刚接触tensorflow的你可能会感觉到很多地方怪怪的，不是特别理解。这是正常的反应。每一种框架都有其自己的设计特色，当我们和它接触的次数越来越多后，就自然而然地理解那些特色了。所以现在不要求大家能理解它们，顺其自然先往下学就好，后面我保证你能自然而然地茅塞顿开！\n",
    "\n",
    "编写tensorflow程序的一般步骤如下：\n",
    "1. 创建变量，在tensorflow里面有张量（Tensor）一词。 \n",
    "2. 用这些张量来构建一些操作，例如上面的$(\\hat y^{(i)} - y^{(i)})^2$\n",
    "3. 初始化那些张量。这个与我们平时的编程有一点不同，在tensorflow里面创建张量时，并没有对它们进行初始化。要到后面时用特定的语句来初始化那样张量。这样的设计正是tensorflow的一大亮点，它可以大大提升程序的运行效率。后面我们再详细解释它。 \n",
    "4. 创建一个session。tensorflow里面用session来执行操作，前面只是定义了操作，必须要用session才能使那些操作被执行。\n",
    "5. 用session执行前面定义的操作。\n",
    "\n",
    "上面的代码中，我们就创建了一个张量loss，但并没有计算它的值。要到后面执行了session.run(loss)语句后，才开始计算loss的值。给大家打个比方吧，session.run之前的都是在设想，session.run时才是执行那些设想。就像我们建一座大厦一样，session.run之前都是在设计，session.run时才是按设计图动工。\n",
    "\n",
    "下面再给大家举一个更简单的例子来说明tensorflow的这种“设计/动工”的特色:"
   ]
  },
  {
   "cell_type": "code",
   "execution_count": 3,
   "metadata": {},
   "outputs": [
    {
     "name": "stdout",
     "output_type": "stream",
     "text": [
      "Tensor(\"Mul:0\", shape=(), dtype=int32)\n"
     ]
    }
   ],
   "source": [
    "a = tf.constant(2)\n",
    "b = tf.constant(10)\n",
    "c = tf.multiply(a,b)\n",
    "print(c)"
   ]
  },
  {
   "cell_type": "markdown",
   "metadata": {},
   "source": [
    "上面的代码执行完后，按照我们以往的编程经验来看，print打印出来的应该是20才对。但是tensorflow只是打印出了张量c的一些信息，这些信息表明张量c的维度是空的并且它的类型是int32。这是为什么呢？因为这些代码只是设计了张量c，还并没有执行它，所以打印出来的只有一些信息而已，并没有实际的值。\n",
    "\n",
    "为了执行上面的设计，我们需要下面的代码。用session.run执行上面的设计后，再次打印出张量c，得到的结果就是20了。"
   ]
  },
  {
   "cell_type": "code",
   "execution_count": 4,
   "metadata": {},
   "outputs": [
    {
     "name": "stdout",
     "output_type": "stream",
     "text": [
      "20\n"
     ]
    }
   ],
   "source": [
    "sess = tf.Session()\n",
    "print(sess.run(c))"
   ]
  },
  {
   "cell_type": "markdown",
   "metadata": {},
   "source": [
    "我们需要适应tensorflow的这种用法——创建变量和操作，然后对变量进行初始化，然后创建session，最后用session来执行所有操作。\n",
    "\n",
    "下面，我们再来学习一下tensorflow的另一个特性——placehodler——占位符。顾名思义，占位符就是只占着一个位置，这个位置里面的内容是空的，在后面我们就可以往这个位置里面填充各种内容了。就像建造一座大厦，占位符就像是一个个房间，房间里面是空的，后面我们可以往房间里面任意放置各种东西。\n",
    "\n",
    "tensorflow使用feed_dict语法来给占位符填充内容。如下所示，我们创建了一个名为x的占位符，并且在执行session时用feed_dict语法将3填充到了x里面。x被设置成了3，所以session执行2*x这个操作的结果就是6。"
   ]
  },
  {
   "cell_type": "code",
   "execution_count": 5,
   "metadata": {},
   "outputs": [
    {
     "name": "stdout",
     "output_type": "stream",
     "text": [
      "6\n"
     ]
    }
   ],
   "source": [
    "x = tf.placeholder(tf.int64, name = 'x')\n",
    "print(sess.run(2 * x, feed_dict = {x: 3}))\n",
    "sess.close()"
   ]
  },
  {
   "cell_type": "markdown",
   "metadata": {},
   "source": [
    "tensorflow中有个重要的概念——计算图。当我们创建变量和操作时，仅仅是在tensorflow里面构建了一个计算图，计算图里面可以有占位符。这些都只是设计而已，并没有实际的数值也没有被执行。直到创建了session后，就可以用session.run来执行前面设计好的计算图了，在执行计算图时可以往计算图里的占位符中填充内容。同一个计算图，在每次run时，即在每次被执行时都可以往占位符中填充不同的数值。就像一座大厦，可以往房间里面堆放书籍，也可以把书籍搬出来将里面堆放电脑。"
   ]
  }
 ],
 "metadata": {
  "coursera": {
   "course_slug": "deep-neural-network",
   "graded_item_id": "BFd89",
   "launcher_item_id": "AH2rK"
  },
  "kernelspec": {
   "display_name": "Python 3",
   "language": "python",
   "name": "python3"
  },
  "language_info": {
   "codemirror_mode": {
    "name": "ipython",
    "version": 3
   },
   "file_extension": ".py",
   "mimetype": "text/x-python",
   "name": "python",
   "nbconvert_exporter": "python",
   "pygments_lexer": "ipython3",
   "version": "3.5.6"
  }
 },
 "nbformat": 4,
 "nbformat_minor": 1
}
