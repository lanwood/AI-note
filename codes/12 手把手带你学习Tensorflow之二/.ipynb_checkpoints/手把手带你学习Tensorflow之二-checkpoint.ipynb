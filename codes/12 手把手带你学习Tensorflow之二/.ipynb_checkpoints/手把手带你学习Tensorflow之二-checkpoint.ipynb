{
 "cells": [
  {
   "cell_type": "markdown",
   "metadata": {},
   "source": [
    "本篇文章我们继续通过一些小例子来让大家进一步熟悉tensorflow框架。"
   ]
  },
  {
   "cell_type": "code",
   "execution_count": 44,
   "metadata": {},
   "outputs": [],
   "source": [
    "import math\n",
    "import numpy as np\n",
    "import h5py\n",
    "import matplotlib.pyplot as plt\n",
    "import tensorflow as tf\n",
    "from tensorflow.python.framework import ops\n",
    "from tf_utils import load_dataset, random_mini_batches, convert_to_one_hot, predict\n",
    "\n",
    "%matplotlib inline\n",
    "np.random.seed(1)"
   ]
  },
  {
   "cell_type": "markdown",
   "metadata": {},
   "source": [
    "### 线性函数\n",
    "\n",
    "下面我们用tensorflow来实现人工智能领域中著名的线性函数: $Y = WX + b$。学习过我教程中前面文章的同学已经对这个函数特别熟悉了。在本例中，我们设W的维度是(4,3)，X的维度是(3,1)以及b的是(4,1)。它们里面填充的都是随机数。"
   ]
  },
  {
   "cell_type": "code",
   "execution_count": 55,
   "metadata": {},
   "outputs": [],
   "source": [
    "def linear_function():   \n",
    "    \n",
    "    np.random.seed(1)\n",
    " \n",
    "    X = tf.constant(np.random.randn(3, 1), name = \"X\") # 定义一个维度是(3, 1)的常量，randn函数会生成随机数\n",
    "    W = tf.constant(np.random.randn(4, 3), name = \"W\")\n",
    "    b = tf.constant(np.random.randn(4, 1), name = \"b\")\n",
    "    Y = tf.add(tf.matmul(W, X), b)# tf.matmul函数会执行矩阵运算\n",
    "    \n",
    "    # 创建session，然后用run来执行上面定义的操作\n",
    "    sess = tf.Session()\n",
    "    result = sess.run(Y)\n",
    "    sess.close()\n",
    "\n",
    "    return result"
   ]
  },
  {
   "cell_type": "code",
   "execution_count": 46,
   "metadata": {},
   "outputs": [
    {
     "name": "stdout",
     "output_type": "stream",
     "text": [
      "result = [[-2.15657382]\n",
      " [ 2.95891446]\n",
      " [-1.08926781]\n",
      " [-0.84538042]]\n"
     ]
    }
   ],
   "source": [
    "print( \"result = \" + str(linear_function()))"
   ]
  },
  {
   "cell_type": "markdown",
   "metadata": {},
   "source": [
    "### sigmoid函数\n",
    "上面我们用tensorflow实现了深度学习中著名的线性函数，下面我们再来实现sigmoid这个著名的非线性函数。其实，tensorflow框架已经帮我们实现了这些函数了，我们只需要学会使用它们就可以了。下面我给大家展示一下如何用placeholder来使用tensorflow中的sigmoid函数。"
   ]
  },
  {
   "cell_type": "code",
   "execution_count": 56,
   "metadata": {},
   "outputs": [],
   "source": [
    "def sigmoid(z):\n",
    "    \n",
    "    x = tf.placeholder(tf.float32, name=\"x\") # 定义一个类型为float32的占位符\n",
    "\n",
    "    sigmoid = tf.sigmoid(x) # 调用tensorflow的sigmoid函数，并且将占位符作为参数传递进去\n",
    "\n",
    "    with tf.Session() as sess: # 创建一个session\n",
    "        # 用run来执行上面定义的sigmoid操作。\n",
    "        # 执行时将外面传入的z填充到占位符x中，也就相当于把z作为参数传入了tensorflow的sigmoid函数中了。\n",
    "        result = sess.run(sigmoid, feed_dict = {x: z}) \n",
    "    \n",
    "    return result"
   ]
  },
  {
   "cell_type": "code",
   "execution_count": 48,
   "metadata": {},
   "outputs": [
    {
     "name": "stdout",
     "output_type": "stream",
     "text": [
      "sigmoid(0) = 0.5\n",
      "sigmoid(12) = 0.9999938\n"
     ]
    }
   ],
   "source": [
    "print (\"sigmoid(0) = \" + str(sigmoid(0)))\n",
    "print (\"sigmoid(12) = \" + str(sigmoid(12)))"
   ]
  },
  {
   "cell_type": "markdown",
   "metadata": {},
   "source": [
    "\n",
    "细心的同学可能发现有两种方法可以创建tensorflow的session: \n",
    "\n",
    "**方法 1:**\n",
    "```python\n",
    "sess = tf.Session()\n",
    "result = sess.run(..., feed_dict = {...})\n",
    "sess.close() \n",
    "```\n",
    "**方法 2:**\n",
    "```python\n",
    "with tf.Session() as sess: \n",
    "    result = sess.run(..., feed_dict = {...})\n",
    "```\n",
    "\n",
    "两种方法都可以使用，具体看个人的喜好。"
   ]
  },
  {
   "cell_type": "markdown",
   "metadata": {},
   "source": [
    "### Cost函数\n",
    "\n",
    "cost函数也是人工智能领域的一个重要部分。像sigmoid一样，tensorflow也已经帮我们定义好了各种著名的cost函数。在前面的教程中，我们需要写不少python代码来实现下面的cost函数，而如果使用tensorflow框架，只需要一行代码就可以了: \n",
    "$$ J = - \\frac{1}{m}  \\sum_{i = 1}^m  \\large ( \\small y^{(i)} \\log a^{ [2] (i)} + (1-y^{(i)})\\log (1-a^{ [2] (i)} )\\large )\\small\\tag{2}$$\n",
    "\n",
    "我们可以用下面的tensorflow函数来一次性实现sigmoid和上面的cost函数，上面的cost函数也叫做cross_entropy函数: \n",
    "- `tf.nn.sigmoid_cross_entropy_with_logits(logits = ...,  labels = ...)`\n",
    "\n",
    "logits参数就是我们最后一层神经元输出的z，labels就是我们的真实标签y。上面的tensorflow函数同时实现了sigmoid和cost函数，所以等于一次性实现了下面的函数：\n",
    "\n",
    "$$- \\frac{1}{m}  \\sum_{i = 1}^m  \\large ( \\small y^{(i)} \\log \\sigma(z^{[2](i)}) + (1-y^{(i)})\\log (1-\\sigma(z^{[2](i)})\\large )\\small\\tag{2}$$\n",
    "\n"
   ]
  },
  {
   "cell_type": "code",
   "execution_count": 49,
   "metadata": {},
   "outputs": [],
   "source": [
    "def cost(z_in, y_in):    \n",
    "    \n",
    "    z = tf.placeholder(tf.float32, name=\"z\") # 创建占位符\n",
    "    y = tf.placeholder(tf.float32, name=\"y\")\n",
    "    \n",
    "    # 使用sigmoid_cross_entropy_with_logits来构建cost操作。\n",
    "    cost = tf.nn.sigmoid_cross_entropy_with_logits(logits=z, labels=y)\n",
    "    \n",
    "    # 创建session\n",
    "    sess = tf.Session()\n",
    "    \n",
    "    # 将传入的z_in和y_in填充到占位符中，然后执行cost操作\n",
    "    cost = sess.run(cost, feed_dict={z: z_in, y: y_in})\n",
    "\n",
    "    sess.close()\n",
    "    \n",
    "    return cost"
   ]
  },
  {
   "cell_type": "code",
   "execution_count": 50,
   "metadata": {},
   "outputs": [
    {
     "name": "stdout",
     "output_type": "stream",
     "text": [
      "cost = [0.79813886 0.91301525 0.40318602 0.34115386]\n"
     ]
    }
   ],
   "source": [
    "logits = np.array([0.2, 0.4, 0.7, 0.9])\n",
    "cost = cost(logits, np.array([0, 0, 1, 1]))\n",
    "print (\"cost = \" + str(cost))"
   ]
  },
  {
   "cell_type": "markdown",
   "metadata": {},
   "source": [
    "### One Hot编码\n",
    "\n",
    "再给大家介绍一个tensorflow中很常用的功能——One Hot编码。在人工智能的编程中，我们经常会遇到多分类问题，我们前面学习的softmax就是用来解决多分类问题的。在多分类编程中，我们的y向量要包含0到C-1的数字，里面的C表示类别的数量。例如，假设C是4，那么我们就需要将下图中左边的向量转换成右边的向量。\n",
    "\n",
    "<img src=\"images/onehot.png\" style=\"width:600px;height:150px;\">\n",
    "\n",
    "右边的向量就叫做one hot向量，因为向量中只有一个元素是1，其它的都是0。例如，最后一个元素是1就表示类型3。在之前我们实现纯python编程时，如果要实现上面的转换，我们需要写好几行代码，改用tensorflow框架的话，只需要一行代码: \n",
    "\n",
    "- tf.one_hot(indices, depth, axis) "
   ]
  },
  {
   "cell_type": "code",
   "execution_count": 51,
   "metadata": {},
   "outputs": [],
   "source": [
    "def one_hot_matrix(labels, C_in):\n",
    "    \"\"\"\n",
    "    labels就是真实标签y向量；\n",
    "    C_in就是类别的数量\n",
    "    \"\"\"\n",
    "  \n",
    "    # 创建一个名为C的tensorflow常量，把它的值设为C_in\n",
    "    C = tf.constant(C_in, name='C')\n",
    "    \n",
    "    # 使用one_hot函数构建转换操作，将这个操作命名为one_hot_matrix。\n",
    "    one_hot_matrix = tf.one_hot(indices=labels, depth=C, axis=0)\n",
    "    \n",
    "    sess = tf.Session()\n",
    "    \n",
    "    # 执行one_hot_matrix操作\n",
    "    one_hot = sess.run(one_hot_matrix)\n",
    "  \n",
    "    sess.close()\n",
    "    \n",
    "    return one_hot"
   ]
  },
  {
   "cell_type": "code",
   "execution_count": 52,
   "metadata": {},
   "outputs": [
    {
     "name": "stdout",
     "output_type": "stream",
     "text": [
      "one_hot = [[0. 0. 0. 1. 0. 0.]\n",
      " [1. 0. 0. 0. 0. 1.]\n",
      " [0. 1. 0. 0. 1. 0.]\n",
      " [0. 0. 1. 0. 0. 0.]]\n"
     ]
    }
   ],
   "source": [
    "labels = np.array([1,2,3,0,2,1])\n",
    "one_hot = one_hot_matrix(labels, C_in=4)\n",
    "print (\"one_hot = \" + str(one_hot))"
   ]
  },
  {
   "cell_type": "markdown",
   "metadata": {},
   "source": [
    "### 初始化0和1\n",
    "\n",
    "最后再介绍两个常用的tensorflow函数，tf.ones()和tf.zeros()。我们将维度信息传入到这两个函数中，它们就会返回填充好1或0的数组。"
   ]
  },
  {
   "cell_type": "code",
   "execution_count": 53,
   "metadata": {},
   "outputs": [],
   "source": [
    "def ones(shape):\n",
    "    \n",
    "    # 将维度信息传入tf.ones中\n",
    "    ones = tf.ones(shape)\n",
    "    \n",
    "    sess = tf.Session()\n",
    "    \n",
    "    # 执行ones操作\n",
    "    ones = sess.run(ones)\n",
    "    \n",
    "    sess.close()\n",
    "    \n",
    "    return ones"
   ]
  },
  {
   "cell_type": "code",
   "execution_count": 54,
   "metadata": {},
   "outputs": [
    {
     "name": "stdout",
     "output_type": "stream",
     "text": [
      "ones = [1. 1. 1.]\n"
     ]
    }
   ],
   "source": [
    "print (\"ones = \" + str(ones([3])))"
   ]
  },
  {
   "cell_type": "markdown",
   "metadata": {},
   "source": [
    "好，tensorflow的基本特性就介绍到这里了，大家应该对tensorflow不再陌生了，下篇文章教大家用tensorflow来构建一个完整的人工智能程序！"
   ]
  }
 ],
 "metadata": {
  "coursera": {
   "course_slug": "deep-neural-network",
   "graded_item_id": "BFd89",
   "launcher_item_id": "AH2rK"
  },
  "kernelspec": {
   "display_name": "Python 3",
   "language": "python",
   "name": "python3"
  },
  "language_info": {
   "codemirror_mode": {
    "name": "ipython",
    "version": 3
   },
   "file_extension": ".py",
   "mimetype": "text/x-python",
   "name": "python",
   "nbconvert_exporter": "python",
   "pygments_lexer": "ipython3",
   "version": "3.5.6"
  }
 },
 "nbformat": 4,
 "nbformat_minor": 1
}
